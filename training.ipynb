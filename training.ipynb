{
 "cells": [
  {
   "cell_type": "code",
   "execution_count": 16,
   "id": "e9f66a5d",
   "metadata": {},
   "outputs": [],
   "source": [
    "# Load Libraries\n",
    "import sklearn\n",
    "import pandas as pd\n",
    "import numpy as np\n",
    "\n",
    "from sklearn.model_selection import train_test_split\n",
    "from sklearn.metrics import mean_squared_error, r2_score\n",
    "from sklearn.linear_model import LinearRegression\n",
    "\n",
    "\n",
    "\n"
   ]
  },
  {
   "cell_type": "code",
   "execution_count": 17,
   "id": "3c830356",
   "metadata": {},
   "outputs": [
    {
     "name": "stdout",
     "output_type": "stream",
     "text": [
      "Train size :  (824, 8) (824,)\n",
      "Test size :  (206, 8) (206,)\n"
     ]
    }
   ],
   "source": [
    "df  = pd.read_csv('Concrete_Data.csv')\n",
    "y = df['Concretecompressivestrength']\n",
    "x = df.drop('Concretecompressivestrength', axis=1)\n",
    "\n",
    "\n",
    "x_train, x_test, y_train, y_test = train_test_split(x, y, test_size=0.2, random_state=42)\n",
    "print('Train size : ', x_train.shape, y_train.shape)\n",
    "print('Test size : ', x_test.shape, y_test.shape)\n",
    "\n"
   ]
  },
  {
   "cell_type": "code",
   "execution_count": 18,
   "id": "dd699179",
   "metadata": {},
   "outputs": [
    {
     "data": {
      "text/plain": [
       "array([ 0.11899393,  0.1085356 ,  0.08215181, -0.13527626,  0.31056994,\n",
       "        0.01786715,  0.02409978,  0.11643864])"
      ]
     },
     "execution_count": 18,
     "metadata": {},
     "output_type": "execute_result"
    }
   ],
   "source": [
    "model = LinearRegression()\n",
    "model.fit(x_train, y_train)\n",
    "model.coef_"
   ]
  },
  {
   "cell_type": "code",
   "execution_count": 19,
   "id": "5f50ff37",
   "metadata": {},
   "outputs": [
    {
     "name": "stdout",
     "output_type": "stream",
     "text": [
      "Mean Squared Error:  95.97094009110684\n"
     ]
    }
   ],
   "source": [
    "y_pred = model.predict(x_test)\n",
    "mse = mean_squared_error(y_test, y_pred)\n",
    "print(\"Mean Squared Error: \", mse)"
   ]
  },
  {
   "cell_type": "code",
   "execution_count": 20,
   "id": "11ed68b3",
   "metadata": {},
   "outputs": [
    {
     "name": "stdout",
     "output_type": "stream",
     "text": [
      "Model saved as 'linear_regression.pkl'\n"
     ]
    }
   ],
   "source": [
    "\"\"\"\n",
    "import joblib\n",
    "\n",
    "joblib.dump(model, 'linear_regression.joblib')\n",
    "print(\"Model saved as 'linear_regression.joblib'\")\n",
    "\"\"\"\n",
    "\n",
    "import pickle\n",
    "with open('linear_regression.pkl', 'wb') as file:\n",
    "    pickle.dump(model, file)\n",
    "print(\"Model saved as 'linear_regression.pkl'\")\n",
    "\n"
   ]
  }
 ],
 "metadata": {
  "kernelspec": {
   "display_name": "Python 3",
   "language": "python",
   "name": "python3"
  },
  "language_info": {
   "codemirror_mode": {
    "name": "ipython",
    "version": 3
   },
   "file_extension": ".py",
   "mimetype": "text/x-python",
   "name": "python",
   "nbconvert_exporter": "python",
   "pygments_lexer": "ipython3",
   "version": "3.12.10"
  }
 },
 "nbformat": 4,
 "nbformat_minor": 5
}
